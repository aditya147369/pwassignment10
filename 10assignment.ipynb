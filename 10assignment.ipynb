{
 "cells": [
  {
   "cell_type": "markdown",
   "id": "72033b67-1d3a-429f-925f-a87ac1caa2d3",
   "metadata": {},
   "source": [
    "Q1. What is a database? Differentiate between SQL and NoSQL databases."
   ]
  },
  {
   "cell_type": "markdown",
   "id": "e8ddadcd-4665-4d6b-9fd1-c47092e6ddff",
   "metadata": {},
   "source": [
    "Ans - A database is a server that allows users to store, retrieve, update, and manage large amounts of data efficiently, as data can be huge in size that cannot be stored in personal device memory due to size complexitymthat's why we use database to store users required information.\n",
    "The diierence between SQL and noSQL is\n",
    "SQL stands for structured query language which is used to manage relational database that store data in structured way i.e in table format. Where attributes hold values based on their data type. \n",
    "Nosql is a type of query language that is unstructured where the data is stored in document json format means in dictionary format called as collection where user can set diffrent values data type of an different attribute as per needed. "
   ]
  },
  {
   "cell_type": "markdown",
   "id": "78943c5d-33c6-48ed-8aed-efe0ba7ed46f",
   "metadata": {},
   "source": [
    "Q2. What is DDL? Explain why CREATE, DROP, ALTER, and TRUNCATE are used with an example."
   ]
  },
  {
   "cell_type": "markdown",
   "id": "66daea91-72c0-434f-8850-9cdf6465720a",
   "metadata": {},
   "source": [
    "Ans - DDL is a type of sql command which is used to define the structure of the database here the structure is in table format in this type we define CREATE, ALTER, DROP and TRUNCATE \n",
    "CREATE is  mostly used for creation of new data bases and  tables of respective databases.\n",
    "Alter is used to makes changes in the schema such as adding or removing coloums, renaming table or column, modifying data type or data type length, adding or removing constraints for primary and foreign key.\n",
    "DROP is used to delete the entire schema where ever row and column will be deleted\n",
    "TRUNCATE is used to delete every rows in the table only leaving behind the columns names and also there is no recovery of the records as after truncate it does not create log file.\n",
    "\n",
    "For example we have to create a database of student and create a studnet table.\n",
    "\n",
    "--CREATE DATABASE IF NOT EXISTS student_db;\n",
    "\n",
    "--CREATE TABLE IF NOT EXISTS student_db.student_table(name VARCHAR(30),age INT,course VARCHAR(30));\n",
    "\n",
    "now we have a database of student_db and a table also some values and attributes inserted in it(name,age,course) and now we have to alter them suppose adding a new attribute,\n",
    "\n",
    "--ALTER Table st_tb ADD phone_num;\n",
    "\n",
    "now if we do truncate all the rows will be deleted.\n",
    "\n",
    "--TRUNCATE student_table;\n",
    "\n",
    "drop will delete the entire table\n",
    "\n",
    "--DROP TABLE student_table;"
   ]
  },
  {
   "cell_type": "markdown",
   "id": "bf5cf14f-aa8f-4449-a424-2331fd995038",
   "metadata": {},
   "source": [
    "Q3. What is DML? Explain INSERT, UPDATE, and DELETE with an example."
   ]
  },
  {
   "cell_type": "markdown",
   "id": "627c8886-9151-4d24-b33a-d1c073defa3f",
   "metadata": {},
   "source": [
    "Ans - DML is done after DDL once  creation of schema is done now we have to provide specific values to specific attributes in the table for that we use dml it has commands like INSERT,UPDATE, DELETE \n",
    "INSERT is used to insert the values for the attributes in the table.\n",
    "UPDATE is used to change the values of the data i.e specific row value like i have a attribute of salary and now i have to increment the salary so we can we update command even we can update salary for particular employe using WHERE.\n",
    "DELETE is used to delete a specific row or the entire rows of the table it is slower than truncate as it creates log file of the deleted rows.\n",
    "\n",
    "Inserting values-\n",
    "--INSERT INTO student_table VALUES('aditya',23,'data science') - from ddl example\n",
    "\n",
    "Updating course as data science master 2.0-\n",
    "--UPDATE student_table set course = data science master 2.0;\n",
    "\n",
    "Deleting from table-\n",
    "--DELETE FROM student_table;"
   ]
  },
  {
   "cell_type": "markdown",
   "id": "d6189f12-4fd3-4755-b0ed-7205fb3d8420",
   "metadata": {},
   "source": [
    "Q4. What is DQL? Explain SELECT with an example."
   ]
  },
  {
   "cell_type": "markdown",
   "id": "d3bbf97f-c5b1-4492-acf3-0d2a1b6c8bd1",
   "metadata": {},
   "source": [
    "Ans - DQL is a type of sql that is used to retrieve data from the table we can retrieve the entire data or particular attributes data by using SELECT.\n",
    "\n",
    "If we want to retrive every information from the table we use-\n",
    "\n",
    "--SELECT * FROM table_name;\n",
    "\n",
    "or from particulat attribute-\n",
    "\n",
    "--SELECT attribute_name FROM table_name;"
   ]
  },
  {
   "cell_type": "markdown",
   "id": "a33d5dcf-e17d-4d12-b28f-96460b39b5bf",
   "metadata": {},
   "source": [
    "Q5. Explain Primary Key and Foreign Key."
   ]
  },
  {
   "cell_type": "markdown",
   "id": "7f270bb8-862c-412e-b3a9-194f2bc96bac",
   "metadata": {},
   "source": [
    "Ans - Primary key is a unique id that is given to a specific attribute so that if values of two or more attributes are same then it becomes difficult to identify them so that's why we use a primary key that is unique to every values of the attribute.\n",
    "\n",
    "Foreign key is an attribute or a set of attributes which takes refrence of a primary key of same table or another table(if they are related to each other) supose i have 2 tables related to each other and one table has an  attribute as primary key then using that attribute as a reference we can create foreign key in another table "
   ]
  },
  {
   "cell_type": "markdown",
   "id": "86c1fc8f-90d5-4daa-aab9-4f0f7d5a9837",
   "metadata": {},
   "source": [
    "Q6. Write a python code to connect MySQL to python. Explain the cursor() and execute() method."
   ]
  },
  {
   "cell_type": "markdown",
   "id": "cdb84e4e-318c-4044-8026-37066f838575",
   "metadata": {},
   "source": [
    "import mysql.connector\n",
    "mydb = mysql.connector.connect\n",
    "(\n",
    "  host=\"localhost\",\n",
    "  user=\"abc\",\n",
    "  password=\"password\"\n",
    ")\n",
    "\n",
    "mycursor = mydb.cursor()\n",
    "mycursor.execute()\n",
    "\n",
    "\n",
    "Cursor() is used to create cursor object which allows users to interact with the database and execute queries. It acts as an pointers which allows users to insert,fetch data,or delete records from the database.\n",
    "\n",
    "Execute() is used for writing sql statements like create, insert, delete, update this method is called on cursor object and the sql query is executed. -->"
   ]
  },
  {
   "cell_type": "markdown",
   "id": "26fd3e27-281c-44d4-842a-ac8ad5ada3d6",
   "metadata": {},
   "source": [
    "Q7. Give the order of execution of SQL clauses in an SQL query."
   ]
  },
  {
   "cell_type": "markdown",
   "id": "96d3901f-be86-465f-b801-0fa94344be9d",
   "metadata": {},
   "source": [
    "Ans - \n",
    "The order is \n",
    "\n",
    "1.SELECT-used to select entire values or specific values of attributes. \n",
    "\n",
    "2.FROM-used to select from table_name.\n",
    "\n",
    "3.WHERE-used to set certain constraints.\n",
    "\n",
    "4.GROUP BY-used to group the result with one or more coloums. \n",
    "\n",
    "5.HAVING-used to further aggregate the result got from group by.\n",
    "\n",
    "6.ORDER BY-used to arrange the result in ascending or descending order."
   ]
  },
  {
   "cell_type": "code",
   "execution_count": null,
   "id": "988a4ce8-573e-4450-999e-6ba42575dd6a",
   "metadata": {},
   "outputs": [],
   "source": []
  }
 ],
 "metadata": {
  "kernelspec": {
   "display_name": "Python 3 (ipykernel)",
   "language": "python",
   "name": "python3"
  },
  "language_info": {
   "codemirror_mode": {
    "name": "ipython",
    "version": 3
   },
   "file_extension": ".py",
   "mimetype": "text/x-python",
   "name": "python",
   "nbconvert_exporter": "python",
   "pygments_lexer": "ipython3",
   "version": "3.10.8"
  }
 },
 "nbformat": 4,
 "nbformat_minor": 5
}
